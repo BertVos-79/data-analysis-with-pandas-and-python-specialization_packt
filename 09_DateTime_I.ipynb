{
 "cells": [
  {
   "cell_type": "markdown",
   "id": "aec65581-3809-4a8a-8370-51de59de4cce",
   "metadata": {},
   "source": [
    "# 9. Working with Dates and Times I\n"
   ]
  },
  {
   "cell_type": "code",
   "execution_count": 1,
   "id": "73a23cfd-6731-4fd5-bcbf-d6f6fa22ac04",
   "metadata": {},
   "outputs": [],
   "source": [
    "import pandas as pd\n",
    "import datetime as dt"
   ]
  },
  {
   "cell_type": "markdown",
   "id": "0f07a36f-2d0f-4c06-ada4-40b333791244",
   "metadata": {},
   "source": [
    "### Table of Contents\n",
    "\n",
    "1. Review of Python's datetime Module\n",
    "2. The Timestamp and DatetimeIndex Objects\n",
    "3. Create Range of Dates with pd.date_range Function\n",
    "4. The dt Attribute\n",
    "5. Selecting Rows from a DataFrame with a DateTimeIndex\n",
    "6. The DateOffset Object\n",
    "7. Specialized Date Offsets"
   ]
  },
  {
   "cell_type": "markdown",
   "id": "f879fe7a-09ed-4c0d-ba27-55a09f6dd81d",
   "metadata": {},
   "source": [
    "## 1. Review of Python's datetime Module\n",
    "\n",
    "- The `datetime` module is built into the core Python programming language.\n",
    "- The common alias for the `datetime` module is `dt`.\n",
    "- A module is a Python source file; think of it like an internal library that Python loads on demand.\n",
    "- The `datetime` module includes `date` and `datetime` classes for representing dates and datetimes.\n",
    "- The `date` constructor accepts arguments for year, month, and day. Python defaults to 0 for any missing values.\n",
    "- The `datetime` constructor accepts arguments for year, month, day, hour, minute, and second."
   ]
  },
  {
   "cell_type": "code",
   "execution_count": 2,
   "id": "f51e4afd-26b7-49b4-a124-e741d7a386b0",
   "metadata": {},
   "outputs": [],
   "source": [
    "someday = dt.date(1990, 4, 27)"
   ]
  },
  {
   "cell_type": "code",
   "execution_count": 3,
   "id": "142dd7a9-6c7b-4e97-8346-76f38a4e071d",
   "metadata": {},
   "outputs": [
    {
     "data": {
      "text/plain": [
       "4"
      ]
     },
     "execution_count": 3,
     "metadata": {},
     "output_type": "execute_result"
    }
   ],
   "source": [
    "someday.year\n",
    "someday.day\n",
    "someday.month"
   ]
  },
  {
   "cell_type": "code",
   "execution_count": 4,
   "id": "640c5bbc-1a86-4a8e-a543-b9baf25b2f05",
   "metadata": {},
   "outputs": [
    {
     "data": {
      "text/plain": [
       "'1990-04-27'"
      ]
     },
     "execution_count": 4,
     "metadata": {},
     "output_type": "execute_result"
    }
   ],
   "source": [
    "str(someday)"
   ]
  },
  {
   "cell_type": "code",
   "execution_count": 5,
   "id": "eb11b65d-662b-4a12-bd1c-7ffc937c4079",
   "metadata": {},
   "outputs": [
    {
     "data": {
      "text/plain": [
       "'2010-01-10 08:13:57'"
      ]
     },
     "execution_count": 5,
     "metadata": {},
     "output_type": "execute_result"
    }
   ],
   "source": [
    "str(dt.datetime(2010, 1, 10, 8, 13, 57))"
   ]
  },
  {
   "cell_type": "code",
   "execution_count": 6,
   "id": "c834a095-a3fa-4ede-9140-4ca4b7b06f1e",
   "metadata": {},
   "outputs": [],
   "source": [
    "sometime =dt.datetime(2018,4,14,8,50,44)"
   ]
  },
  {
   "cell_type": "code",
   "execution_count": 7,
   "id": "3438c686-b264-4b33-8814-3e3879530a4e",
   "metadata": {},
   "outputs": [
    {
     "data": {
      "text/plain": [
       "50"
      ]
     },
     "execution_count": 7,
     "metadata": {},
     "output_type": "execute_result"
    }
   ],
   "source": [
    "sometime.day\n",
    "sometime.month\n",
    "sometime.year\n",
    "sometime.hour\n",
    "sometime.minute"
   ]
  },
  {
   "cell_type": "markdown",
   "id": "c9e0c715-bb1e-4c92-8ebd-4ff73252d065",
   "metadata": {},
   "source": [
    "## 2. The Timestamp and DatetimeIndex Objects\n",
    "\n",
    "- Pandas ships with several classes related to datetimes.\n",
    "- The **Timestamp** is similar to Python's `datetime` object (but with expanded functionality).\n",
    "- A **DatetimeIndex** is an index of **Timestamp** objects.\n",
    "- The **Timestamp** constructor accepts a string, a `datetime` object, or equivalent arguments to the `datetime` class.\n"
   ]
  },
  {
   "cell_type": "code",
   "execution_count": 8,
   "id": "dff9c602-6813-4248-beea-e168948b4a76",
   "metadata": {},
   "outputs": [
    {
     "data": {
      "text/plain": [
       "Timestamp('2021-04-07 18:14:50')"
      ]
     },
     "execution_count": 8,
     "metadata": {},
     "output_type": "execute_result"
    }
   ],
   "source": [
    "pd.Timestamp('2015-03-31')\n",
    "pd.Timestamp('2015/03/31')\n",
    "pd.Timestamp('2015, 3, 31')\n",
    "pd.Timestamp('1,1,2010')\n",
    "pd.Timestamp('19/12/2015')\n",
    "pd.Timestamp('2010-03-08 08:14:58')\n",
    "pd.Timestamp('2021-04-07 06:14:50 PM')"
   ]
  },
  {
   "cell_type": "code",
   "execution_count": 9,
   "id": "d0d722c7-031e-427f-a5e0-226820b64dca",
   "metadata": {},
   "outputs": [
    {
     "data": {
      "text/plain": [
       "Timestamp('2015-01-01 00:00:00')"
      ]
     },
     "execution_count": 9,
     "metadata": {},
     "output_type": "execute_result"
    }
   ],
   "source": [
    "pd.Timestamp(dt.date(2015, 1,1))"
   ]
  },
  {
   "cell_type": "code",
   "execution_count": 10,
   "id": "9fe601e5-6724-4ff9-9cd2-d2147655c7e8",
   "metadata": {},
   "outputs": [
    {
     "data": {
      "text/plain": [
       "Timestamp('2000-02-03 21:35:59')"
      ]
     },
     "execution_count": 10,
     "metadata": {},
     "output_type": "execute_result"
    }
   ],
   "source": [
    "pd.Timestamp(dt.datetime(2000, 2, 3, 21, 35, 59))"
   ]
  },
  {
   "cell_type": "code",
   "execution_count": 11,
   "id": "b02c1c63-2c5b-4343-83ad-cbc43f180835",
   "metadata": {},
   "outputs": [],
   "source": [
    "dates = ['2015-1-6','2015-5-6','2015-2-2']\n",
    "dtIndex = pd.DatetimeIndex(dates)"
   ]
  },
  {
   "cell_type": "code",
   "execution_count": 12,
   "id": "414f9c8c-7fbb-40a0-a12a-cf42915f1484",
   "metadata": {},
   "outputs": [],
   "source": [
    "values= [100,200,400]"
   ]
  },
  {
   "cell_type": "code",
   "execution_count": 13,
   "id": "1e414cc8-94aa-46f7-bdca-9441f705fe83",
   "metadata": {},
   "outputs": [
    {
     "data": {
      "text/plain": [
       "2015-01-06    100\n",
       "2015-05-06    200\n",
       "2015-02-02    400\n",
       "dtype: int64"
      ]
     },
     "execution_count": 13,
     "metadata": {},
     "output_type": "execute_result"
    }
   ],
   "source": [
    "pd.Series(data = values , index=dtIndex)"
   ]
  },
  {
   "cell_type": "markdown",
   "id": "201466e7-669b-46bc-9745-f2d5dd97059c",
   "metadata": {},
   "source": [
    "## 3. Create Range of Dates with pd.date_range Function\n",
    "\n",
    "- The `date_range` function generates and returns a **DatetimeIndex** holding a sequence of dates.\n",
    "- The function requires 2 of the 3 following parameters: `start`, `end`, and `period`.\n",
    "- With `start` and `end`, Pandas will assume a daily period/interval.\n",
    "- Every element within a **DatetimeIndex** is a **Timestamp**.\n"
   ]
  },
  {
   "cell_type": "code",
   "execution_count": 14,
   "id": "138ad7de-8484-428b-8022-bb2ce972a3a4",
   "metadata": {},
   "outputs": [],
   "source": [
    "times = pd.date_range(start='2016', end='2018',freq='D')"
   ]
  },
  {
   "cell_type": "code",
   "execution_count": 15,
   "id": "53f15e05-88b8-4fcd-9b58-144b0244c0d9",
   "metadata": {},
   "outputs": [
    {
     "data": {
      "text/plain": [
       "pandas._libs.tslibs.timestamps.Timestamp"
      ]
     },
     "execution_count": 15,
     "metadata": {},
     "output_type": "execute_result"
    }
   ],
   "source": [
    "type(times[0])"
   ]
  },
  {
   "cell_type": "code",
   "execution_count": 16,
   "id": "aebcc6b9-2590-421e-bc85-ceb4da76edd1",
   "metadata": {},
   "outputs": [
    {
     "name": "stderr",
     "output_type": "stream",
     "text": [
      "/var/folders/p_/7g1rh2d11bv7z35m9lmpfxnm0000gn/T/ipykernel_28150/2789566102.py:1: FutureWarning: 'w' is deprecated and will be removed in a future version, please use 'W' instead.\n",
      "  times = pd.date_range(start='2016', end='2018',freq='w')\n"
     ]
    }
   ],
   "source": [
    "times = pd.date_range(start='2016', end='2018',freq='w')"
   ]
  },
  {
   "cell_type": "code",
   "execution_count": 17,
   "id": "5830b6c4-2d2a-4451-9636-442f98e7cd34",
   "metadata": {},
   "outputs": [
    {
     "data": {
      "text/plain": [
       "DatetimeIndex(['2016-01-03', '2016-01-10', '2016-01-17', '2016-01-24',\n",
       "               '2016-01-31', '2016-02-07', '2016-02-14', '2016-02-21',\n",
       "               '2016-02-28', '2016-03-06',\n",
       "               ...\n",
       "               '2017-10-29', '2017-11-05', '2017-11-12', '2017-11-19',\n",
       "               '2017-11-26', '2017-12-03', '2017-12-10', '2017-12-17',\n",
       "               '2017-12-24', '2017-12-31'],\n",
       "              dtype='datetime64[ns]', length=105, freq='W-SUN')"
      ]
     },
     "execution_count": 17,
     "metadata": {},
     "output_type": "execute_result"
    }
   ],
   "source": [
    "times"
   ]
  },
  {
   "cell_type": "code",
   "execution_count": 18,
   "id": "4a6d8373-3bce-48e5-a1e2-27027a8dc2e2",
   "metadata": {},
   "outputs": [
    {
     "data": {
      "text/plain": [
       "DatetimeIndex(['2016-01-01', '2016-01-08', '2016-01-15', '2016-01-22',\n",
       "               '2016-01-29', '2016-02-05', '2016-02-12', '2016-02-19',\n",
       "               '2016-02-26', '2016-03-04',\n",
       "               ...\n",
       "               '2017-10-27', '2017-11-03', '2017-11-10', '2017-11-17',\n",
       "               '2017-11-24', '2017-12-01', '2017-12-08', '2017-12-15',\n",
       "               '2017-12-22', '2017-12-29'],\n",
       "              dtype='datetime64[ns]', length=105, freq='W-FRI')"
      ]
     },
     "execution_count": 18,
     "metadata": {},
     "output_type": "execute_result"
    }
   ],
   "source": [
    "pd.date_range(start='2016', end='2018',freq='w-FRI')"
   ]
  },
  {
   "cell_type": "code",
   "execution_count": 19,
   "id": "2e800272-f01e-469d-b280-56f605485361",
   "metadata": {},
   "outputs": [
    {
     "name": "stderr",
     "output_type": "stream",
     "text": [
      "/var/folders/p_/7g1rh2d11bv7z35m9lmpfxnm0000gn/T/ipykernel_28150/1191471613.py:1: FutureWarning: 'H' is deprecated and will be removed in a future version, please use 'h' instead.\n",
      "  pd.date_range(start='2016', end='2018',freq='5H')\n"
     ]
    },
    {
     "data": {
      "text/plain": [
       "DatetimeIndex(['2016-01-01 00:00:00', '2016-01-01 05:00:00',\n",
       "               '2016-01-01 10:00:00', '2016-01-01 15:00:00',\n",
       "               '2016-01-01 20:00:00', '2016-01-02 01:00:00',\n",
       "               '2016-01-02 06:00:00', '2016-01-02 11:00:00',\n",
       "               '2016-01-02 16:00:00', '2016-01-02 21:00:00',\n",
       "               ...\n",
       "               '2017-12-29 23:00:00', '2017-12-30 04:00:00',\n",
       "               '2017-12-30 09:00:00', '2017-12-30 14:00:00',\n",
       "               '2017-12-30 19:00:00', '2017-12-31 00:00:00',\n",
       "               '2017-12-31 05:00:00', '2017-12-31 10:00:00',\n",
       "               '2017-12-31 15:00:00', '2017-12-31 20:00:00'],\n",
       "              dtype='datetime64[ns]', length=3509, freq='5h')"
      ]
     },
     "execution_count": 19,
     "metadata": {},
     "output_type": "execute_result"
    }
   ],
   "source": [
    "pd.date_range(start='2016', end='2018',freq='5H')"
   ]
  },
  {
   "cell_type": "code",
   "execution_count": 20,
   "id": "9ad77fa8-21fd-45d1-8cdf-e75a3754297e",
   "metadata": {},
   "outputs": [
    {
     "name": "stderr",
     "output_type": "stream",
     "text": [
      "/var/folders/p_/7g1rh2d11bv7z35m9lmpfxnm0000gn/T/ipykernel_28150/1636354512.py:1: FutureWarning: 'M' is deprecated and will be removed in a future version, please use 'ME' instead.\n",
      "  pd.date_range(start='2016', end='2018',freq='M')\n"
     ]
    },
    {
     "data": {
      "text/plain": [
       "DatetimeIndex(['2016-01-31', '2016-02-29', '2016-03-31', '2016-04-30',\n",
       "               '2016-05-31', '2016-06-30', '2016-07-31', '2016-08-31',\n",
       "               '2016-09-30', '2016-10-31', '2016-11-30', '2016-12-31',\n",
       "               '2017-01-31', '2017-02-28', '2017-03-31', '2017-04-30',\n",
       "               '2017-05-31', '2017-06-30', '2017-07-31', '2017-08-31',\n",
       "               '2017-09-30', '2017-10-31', '2017-11-30', '2017-12-31'],\n",
       "              dtype='datetime64[ns]', freq='ME')"
      ]
     },
     "execution_count": 20,
     "metadata": {},
     "output_type": "execute_result"
    }
   ],
   "source": [
    "pd.date_range(start='2016', end='2018',freq='M')"
   ]
  },
  {
   "cell_type": "code",
   "execution_count": 21,
   "id": "ab56418d-419c-4cd4-9ff1-c4f7a4df23c3",
   "metadata": {},
   "outputs": [
    {
     "name": "stderr",
     "output_type": "stream",
     "text": [
      "/var/folders/p_/7g1rh2d11bv7z35m9lmpfxnm0000gn/T/ipykernel_28150/1977154025.py:1: FutureWarning: 'A' is deprecated and will be removed in a future version, please use 'YE' instead.\n",
      "  pd.date_range(start='2016', end='2018',freq='A')\n"
     ]
    },
    {
     "data": {
      "text/plain": [
       "DatetimeIndex(['2016-12-31', '2017-12-31'], dtype='datetime64[ns]', freq='YE-DEC')"
      ]
     },
     "execution_count": 21,
     "metadata": {},
     "output_type": "execute_result"
    }
   ],
   "source": [
    "pd.date_range(start='2016', end='2018',freq='A')\n"
   ]
  },
  {
   "cell_type": "code",
   "execution_count": 22,
   "id": "78fad36b-1f93-4387-adce-b2e828dffbb6",
   "metadata": {},
   "outputs": [
    {
     "data": {
      "text/plain": [
       "DatetimeIndex(['2014-01-01', '2014-01-02', '2014-01-03', '2014-01-04',\n",
       "               '2014-01-05', '2014-01-06', '2014-01-07', '2014-01-08',\n",
       "               '2014-01-09', '2014-01-10', '2014-01-11', '2014-01-12',\n",
       "               '2014-01-13', '2014-01-14', '2014-01-15', '2014-01-16',\n",
       "               '2014-01-17', '2014-01-18', '2014-01-19', '2014-01-20',\n",
       "               '2014-01-21', '2014-01-22', '2014-01-23', '2014-01-24',\n",
       "               '2014-01-25'],\n",
       "              dtype='datetime64[ns]', freq='D')"
      ]
     },
     "execution_count": 22,
     "metadata": {},
     "output_type": "execute_result"
    }
   ],
   "source": [
    "pd.date_range(start='2014', periods=25)"
   ]
  },
  {
   "cell_type": "markdown",
   "id": "0c8a6341-c9ef-4c73-b935-7873a1687994",
   "metadata": {},
   "source": [
    "## 4. The dt Attribute\n",
    "\n",
    "- The `dt` attribute reveals a **DatetimeProperties** object with attributes/methods for working with datetimes. It is similar to the `str` attribute for string methods.\n",
    "- The **DatetimeProperties** object has attributes like `day`, `month`, and `year` to reveal information about each date in the **Series**.\n",
    "- The `day_name` method returns the written day of the week.\n",
    "- Attributes like `is_month_end` and `is_quarter_start` return Boolean **Series**.\n"
   ]
  },
  {
   "cell_type": "code",
   "execution_count": 23,
   "id": "16f5bd1d-cbe3-4165-bace-699d5b3663a6",
   "metadata": {},
   "outputs": [],
   "source": [
    "bunch_of_dates = pd.Series(pd.date_range(start='2000',end='2016', freq='2D'))"
   ]
  },
  {
   "cell_type": "code",
   "execution_count": 24,
   "id": "79ada82e-dc39-4fd3-8c36-79e72d67306e",
   "metadata": {},
   "outputs": [
    {
     "data": {
      "text/plain": [
       "0   2000-01-01\n",
       "1   2000-01-03\n",
       "2   2000-01-05\n",
       "3   2000-01-07\n",
       "4   2000-01-09\n",
       "dtype: datetime64[ns]"
      ]
     },
     "execution_count": 24,
     "metadata": {},
     "output_type": "execute_result"
    }
   ],
   "source": [
    "bunch_of_dates.head()"
   ]
  },
  {
   "cell_type": "code",
   "execution_count": 25,
   "id": "47ddbf23-9198-4d19-802f-c8dd39d16922",
   "metadata": {},
   "outputs": [
    {
     "data": {
      "text/plain": [
       "0        1\n",
       "1        3\n",
       "2        5\n",
       "3        7\n",
       "4        9\n",
       "        ..\n",
       "2918    24\n",
       "2919    26\n",
       "2920    28\n",
       "2921    30\n",
       "2922     1\n",
       "Length: 2923, dtype: int32"
      ]
     },
     "execution_count": 25,
     "metadata": {},
     "output_type": "execute_result"
    }
   ],
   "source": [
    "bunch_of_dates.dt.day"
   ]
  },
  {
   "cell_type": "code",
   "execution_count": 26,
   "id": "eb820b5e-41ac-4dfd-bbcb-96967ee93015",
   "metadata": {},
   "outputs": [
    {
     "data": {
      "text/plain": [
       "0      2000-01-01\n",
       "91     2000-07-01\n",
       "137    2000-10-01\n",
       "183    2001-01-01\n",
       "228    2001-04-01\n",
       "456    2002-07-01\n",
       "502    2002-10-01\n",
       "548    2003-01-01\n",
       "593    2003-04-01\n",
       "776    2004-04-01\n",
       "1004   2005-07-01\n",
       "1050   2005-10-01\n",
       "1096   2006-01-01\n",
       "1141   2006-04-01\n",
       "1369   2007-07-01\n",
       "1415   2007-10-01\n",
       "1461   2008-01-01\n",
       "1552   2008-07-01\n",
       "1598   2008-10-01\n",
       "1644   2009-01-01\n",
       "1689   2009-04-01\n",
       "1917   2010-07-01\n",
       "1963   2010-10-01\n",
       "2009   2011-01-01\n",
       "2054   2011-04-01\n",
       "2237   2012-04-01\n",
       "2465   2013-07-01\n",
       "2511   2013-10-01\n",
       "2557   2014-01-01\n",
       "2602   2014-04-01\n",
       "2830   2015-07-01\n",
       "2876   2015-10-01\n",
       "2922   2016-01-01\n",
       "dtype: datetime64[ns]"
      ]
     },
     "execution_count": 26,
     "metadata": {},
     "output_type": "execute_result"
    }
   ],
   "source": [
    "bunch_of_dates.dt.month # Boolean Series\n",
    "bunch_of_dates.dt.day\n",
    "bunch_of_dates.dt.month\n",
    "bunch_of_dates.dt.year\n",
    "bunch_of_dates.dt.hour\n",
    "bunch_of_dates.dt.day_of_year\n",
    "bunch_of_dates.dt.day_name()\n",
    "bunch_of_dates.dt.is_month_end\n",
    "bunch_of_dates.dt.is_month_start\n",
    "bunch_of_dates.dt.is_quarter_start\n",
    "bunch_of_dates[bunch_of_dates.dt.is_quarter_start] # and subset "
   ]
  },
  {
   "cell_type": "markdown",
   "id": "fad46d5b-6db0-4e20-b562-f08feb2921be",
   "metadata": {},
   "source": [
    "## 5. Selecting Rows from a DataFrame with a DateTimeIndex\n",
    "\n",
    "- The `iloc` accessor is available for index position-based extraction.\n",
    "- The `loc` accessor accepts strings or **Timestamps** to extract by index label/value. Note that Python's `datetime` objects will not work.\n",
    "- Use list slicing to extract a sequence of dates. The `truncate` method is another alternative.\n"
   ]
  },
  {
   "cell_type": "code",
   "execution_count": 27,
   "id": "56926c8e-9dc0-4d0c-aead-f58c05495e86",
   "metadata": {},
   "outputs": [
    {
     "data": {
      "text/html": [
       "<div>\n",
       "<style scoped>\n",
       "    .dataframe tbody tr th:only-of-type {\n",
       "        vertical-align: middle;\n",
       "    }\n",
       "\n",
       "    .dataframe tbody tr th {\n",
       "        vertical-align: top;\n",
       "    }\n",
       "\n",
       "    .dataframe thead th {\n",
       "        text-align: right;\n",
       "    }\n",
       "</style>\n",
       "<table border=\"1\" class=\"dataframe\">\n",
       "  <thead>\n",
       "    <tr style=\"text-align: right;\">\n",
       "      <th></th>\n",
       "      <th>Open</th>\n",
       "      <th>High</th>\n",
       "      <th>Low</th>\n",
       "      <th>Close</th>\n",
       "      <th>Adj Close</th>\n",
       "      <th>Volume</th>\n",
       "    </tr>\n",
       "    <tr>\n",
       "      <th>Date</th>\n",
       "      <th></th>\n",
       "      <th></th>\n",
       "      <th></th>\n",
       "      <th></th>\n",
       "      <th></th>\n",
       "      <th></th>\n",
       "    </tr>\n",
       "  </thead>\n",
       "  <tbody>\n",
       "    <tr>\n",
       "      <th>2020-01-02</th>\n",
       "      <td>129.063095</td>\n",
       "      <td>129.942642</td>\n",
       "      <td>128.843216</td>\n",
       "      <td>129.464630</td>\n",
       "      <td>105.346336</td>\n",
       "      <td>3293436</td>\n",
       "    </tr>\n",
       "    <tr>\n",
       "      <th>2020-01-03</th>\n",
       "      <td>127.695984</td>\n",
       "      <td>128.929260</td>\n",
       "      <td>127.686424</td>\n",
       "      <td>128.432129</td>\n",
       "      <td>104.506195</td>\n",
       "      <td>2482890</td>\n",
       "    </tr>\n",
       "    <tr>\n",
       "      <th>2020-01-06</th>\n",
       "      <td>127.552582</td>\n",
       "      <td>128.336517</td>\n",
       "      <td>127.342255</td>\n",
       "      <td>128.202682</td>\n",
       "      <td>104.319489</td>\n",
       "      <td>2537073</td>\n",
       "    </tr>\n",
       "    <tr>\n",
       "      <th>2020-01-07</th>\n",
       "      <td>127.810707</td>\n",
       "      <td>129.024857</td>\n",
       "      <td>127.533463</td>\n",
       "      <td>128.288712</td>\n",
       "      <td>104.389488</td>\n",
       "      <td>3232977</td>\n",
       "    </tr>\n",
       "    <tr>\n",
       "      <th>2020-01-08</th>\n",
       "      <td>128.594650</td>\n",
       "      <td>129.885284</td>\n",
       "      <td>128.030594</td>\n",
       "      <td>129.359467</td>\n",
       "      <td>105.260765</td>\n",
       "      <td>4545916</td>\n",
       "    </tr>\n",
       "  </tbody>\n",
       "</table>\n",
       "</div>"
      ],
      "text/plain": [
       "                  Open        High         Low       Close   Adj Close  \\\n",
       "Date                                                                     \n",
       "2020-01-02  129.063095  129.942642  128.843216  129.464630  105.346336   \n",
       "2020-01-03  127.695984  128.929260  127.686424  128.432129  104.506195   \n",
       "2020-01-06  127.552582  128.336517  127.342255  128.202682  104.319489   \n",
       "2020-01-07  127.810707  129.024857  127.533463  128.288712  104.389488   \n",
       "2020-01-08  128.594650  129.885284  128.030594  129.359467  105.260765   \n",
       "\n",
       "             Volume  \n",
       "Date                 \n",
       "2020-01-02  3293436  \n",
       "2020-01-03  2482890  \n",
       "2020-01-06  2537073  \n",
       "2020-01-07  3232977  \n",
       "2020-01-08  4545916  "
      ]
     },
     "execution_count": 27,
     "metadata": {},
     "output_type": "execute_result"
    }
   ],
   "source": [
    "stocks = pd.read_csv(\"ibm.csv\", parse_dates=[\"Date\"],index_col=\"Date\").sort_index()\n",
    "stocks.head()"
   ]
  },
  {
   "cell_type": "code",
   "execution_count": 28,
   "id": "ac7ea6a9-55b9-42bb-a2d7-725e76a279af",
   "metadata": {},
   "outputs": [
    {
     "data": {
      "text/html": [
       "<div>\n",
       "<style scoped>\n",
       "    .dataframe tbody tr th:only-of-type {\n",
       "        vertical-align: middle;\n",
       "    }\n",
       "\n",
       "    .dataframe tbody tr th {\n",
       "        vertical-align: top;\n",
       "    }\n",
       "\n",
       "    .dataframe thead th {\n",
       "        text-align: right;\n",
       "    }\n",
       "</style>\n",
       "<table border=\"1\" class=\"dataframe\">\n",
       "  <thead>\n",
       "    <tr style=\"text-align: right;\">\n",
       "      <th></th>\n",
       "      <th>High</th>\n",
       "      <th>Low</th>\n",
       "      <th>Close</th>\n",
       "    </tr>\n",
       "    <tr>\n",
       "      <th>Date</th>\n",
       "      <th></th>\n",
       "      <th></th>\n",
       "      <th></th>\n",
       "    </tr>\n",
       "  </thead>\n",
       "  <tbody>\n",
       "    <tr>\n",
       "      <th>2020-01-07</th>\n",
       "      <td>129.024857</td>\n",
       "      <td>127.533463</td>\n",
       "      <td>128.288712</td>\n",
       "    </tr>\n",
       "    <tr>\n",
       "      <th>2020-01-08</th>\n",
       "      <td>129.885284</td>\n",
       "      <td>128.030594</td>\n",
       "      <td>129.359467</td>\n",
       "    </tr>\n",
       "    <tr>\n",
       "      <th>2020-01-09</th>\n",
       "      <td>130.774384</td>\n",
       "      <td>129.359467</td>\n",
       "      <td>130.726578</td>\n",
       "    </tr>\n",
       "    <tr>\n",
       "      <th>2020-01-10</th>\n",
       "      <td>131.806885</td>\n",
       "      <td>130.315491</td>\n",
       "      <td>130.678772</td>\n",
       "    </tr>\n",
       "    <tr>\n",
       "      <th>2020-01-13</th>\n",
       "      <td>130.630981</td>\n",
       "      <td>129.130020</td>\n",
       "      <td>130.592728</td>\n",
       "    </tr>\n",
       "    <tr>\n",
       "      <th>...</th>\n",
       "      <td>...</td>\n",
       "      <td>...</td>\n",
       "      <td>...</td>\n",
       "    </tr>\n",
       "    <tr>\n",
       "      <th>2020-12-24</th>\n",
       "      <td>119.598473</td>\n",
       "      <td>118.747612</td>\n",
       "      <td>119.206497</td>\n",
       "    </tr>\n",
       "    <tr>\n",
       "      <th>2020-12-28</th>\n",
       "      <td>121.032501</td>\n",
       "      <td>118.986618</td>\n",
       "      <td>119.330788</td>\n",
       "    </tr>\n",
       "    <tr>\n",
       "      <th>2020-12-29</th>\n",
       "      <td>119.961761</td>\n",
       "      <td>117.820267</td>\n",
       "      <td>118.355644</td>\n",
       "    </tr>\n",
       "    <tr>\n",
       "      <th>2020-12-30</th>\n",
       "      <td>119.359467</td>\n",
       "      <td>118.193115</td>\n",
       "      <td>118.871895</td>\n",
       "    </tr>\n",
       "    <tr>\n",
       "      <th>2020-12-31</th>\n",
       "      <td>120.487572</td>\n",
       "      <td>118.537285</td>\n",
       "      <td>120.344170</td>\n",
       "    </tr>\n",
       "  </tbody>\n",
       "</table>\n",
       "<p>250 rows × 3 columns</p>\n",
       "</div>"
      ],
      "text/plain": [
       "                  High         Low       Close\n",
       "Date                                          \n",
       "2020-01-07  129.024857  127.533463  128.288712\n",
       "2020-01-08  129.885284  128.030594  129.359467\n",
       "2020-01-09  130.774384  129.359467  130.726578\n",
       "2020-01-10  131.806885  130.315491  130.678772\n",
       "2020-01-13  130.630981  129.130020  130.592728\n",
       "...                ...         ...         ...\n",
       "2020-12-24  119.598473  118.747612  119.206497\n",
       "2020-12-28  121.032501  118.986618  119.330788\n",
       "2020-12-29  119.961761  117.820267  118.355644\n",
       "2020-12-30  119.359467  118.193115  118.871895\n",
       "2020-12-31  120.487572  118.537285  120.344170\n",
       "\n",
       "[250 rows x 3 columns]"
      ]
     },
     "execution_count": 28,
     "metadata": {},
     "output_type": "execute_result"
    }
   ],
   "source": [
    "stocks.iloc[300]\n",
    "stocks.loc[\"2020-01-07\"]\n",
    "stocks.loc[pd.Timestamp(2020, 1, 8)]\n",
    "stocks.loc[\"2020-01-07\":\"2020-12-31\"]\n",
    "stocks.loc[pd.Timestamp(2020, 1, 7):pd.Timestamp(2020, 12, 31)]\n",
    "stocks.truncate(\"2020-01-07\", \"2020-12-31\")\n",
    "\n",
    "stocks.loc[\"2020-01-07\", \"Close\"]\n",
    "stocks.loc[\"2020-01-07\", \"High\":\"Close\"]\n",
    "\n",
    "stocks.loc[pd.Timestamp(2020, 1, 7):pd.Timestamp(2020, 12, 31), \"High\":\"Close\"]"
   ]
  },
  {
   "cell_type": "markdown",
   "id": "ea01f375-18db-452b-ae70-dfd2c5de11d4",
   "metadata": {},
   "source": [
    "## 6. The DateOffset Object\n",
    "\n",
    "- A **DateOffset** object adds time to a **Timestamp** to arrive at a new **Timestamp**.\n",
    "- The **DateOffset** constructor accepts `days`, `weeks`, `months`, `years` parameters, and more.\n",
    "- We can pass a **DateOffset** object to the `freq` parameter of the `pd.date_range` function.\n"
   ]
  },
  {
   "cell_type": "code",
   "execution_count": 29,
   "id": "5c8cd548-1be8-4be7-81e4-c1db0348de93",
   "metadata": {},
   "outputs": [
    {
     "data": {
      "text/html": [
       "<div>\n",
       "<style scoped>\n",
       "    .dataframe tbody tr th:only-of-type {\n",
       "        vertical-align: middle;\n",
       "    }\n",
       "\n",
       "    .dataframe tbody tr th {\n",
       "        vertical-align: top;\n",
       "    }\n",
       "\n",
       "    .dataframe thead th {\n",
       "        text-align: right;\n",
       "    }\n",
       "</style>\n",
       "<table border=\"1\" class=\"dataframe\">\n",
       "  <thead>\n",
       "    <tr style=\"text-align: right;\">\n",
       "      <th></th>\n",
       "      <th>Open</th>\n",
       "      <th>High</th>\n",
       "      <th>Low</th>\n",
       "      <th>Close</th>\n",
       "      <th>Adj Close</th>\n",
       "      <th>Volume</th>\n",
       "    </tr>\n",
       "    <tr>\n",
       "      <th>Date</th>\n",
       "      <th></th>\n",
       "      <th></th>\n",
       "      <th></th>\n",
       "      <th></th>\n",
       "      <th></th>\n",
       "      <th></th>\n",
       "    </tr>\n",
       "  </thead>\n",
       "  <tbody>\n",
       "    <tr>\n",
       "      <th>2020-01-02</th>\n",
       "      <td>129.063095</td>\n",
       "      <td>129.942642</td>\n",
       "      <td>128.843216</td>\n",
       "      <td>129.464630</td>\n",
       "      <td>105.346336</td>\n",
       "      <td>3293436</td>\n",
       "    </tr>\n",
       "    <tr>\n",
       "      <th>2020-01-03</th>\n",
       "      <td>127.695984</td>\n",
       "      <td>128.929260</td>\n",
       "      <td>127.686424</td>\n",
       "      <td>128.432129</td>\n",
       "      <td>104.506195</td>\n",
       "      <td>2482890</td>\n",
       "    </tr>\n",
       "    <tr>\n",
       "      <th>2020-01-06</th>\n",
       "      <td>127.552582</td>\n",
       "      <td>128.336517</td>\n",
       "      <td>127.342255</td>\n",
       "      <td>128.202682</td>\n",
       "      <td>104.319489</td>\n",
       "      <td>2537073</td>\n",
       "    </tr>\n",
       "    <tr>\n",
       "      <th>2020-01-07</th>\n",
       "      <td>127.810707</td>\n",
       "      <td>129.024857</td>\n",
       "      <td>127.533463</td>\n",
       "      <td>128.288712</td>\n",
       "      <td>104.389488</td>\n",
       "      <td>3232977</td>\n",
       "    </tr>\n",
       "    <tr>\n",
       "      <th>2020-01-08</th>\n",
       "      <td>128.594650</td>\n",
       "      <td>129.885284</td>\n",
       "      <td>128.030594</td>\n",
       "      <td>129.359467</td>\n",
       "      <td>105.260765</td>\n",
       "      <td>4545916</td>\n",
       "    </tr>\n",
       "  </tbody>\n",
       "</table>\n",
       "</div>"
      ],
      "text/plain": [
       "                  Open        High         Low       Close   Adj Close  \\\n",
       "Date                                                                     \n",
       "2020-01-02  129.063095  129.942642  128.843216  129.464630  105.346336   \n",
       "2020-01-03  127.695984  128.929260  127.686424  128.432129  104.506195   \n",
       "2020-01-06  127.552582  128.336517  127.342255  128.202682  104.319489   \n",
       "2020-01-07  127.810707  129.024857  127.533463  128.288712  104.389488   \n",
       "2020-01-08  128.594650  129.885284  128.030594  129.359467  105.260765   \n",
       "\n",
       "             Volume  \n",
       "Date                 \n",
       "2020-01-02  3293436  \n",
       "2020-01-03  2482890  \n",
       "2020-01-06  2537073  \n",
       "2020-01-07  3232977  \n",
       "2020-01-08  4545916  "
      ]
     },
     "execution_count": 29,
     "metadata": {},
     "output_type": "execute_result"
    }
   ],
   "source": [
    "stocks = pd.read_csv(\"ibm.csv\", parse_dates=[\"Date\"],index_col=\"Date\").sort_index()\n",
    "stocks.head()"
   ]
  },
  {
   "cell_type": "code",
   "execution_count": 30,
   "id": "e469253c-e155-4346-8fc7-d20ca2a064d2",
   "metadata": {},
   "outputs": [
    {
     "data": {
      "text/plain": [
       "DatetimeIndex(['2020-01-02', '2020-01-03', '2020-01-06', '2020-01-07',\n",
       "               '2020-01-08', '2020-01-09', '2020-01-10', '2020-01-13',\n",
       "               '2020-01-14', '2020-01-15',\n",
       "               ...\n",
       "               '2024-04-17', '2024-04-18', '2024-04-19', '2024-04-22',\n",
       "               '2024-04-23', '2024-04-24', '2024-04-25', '2024-04-26',\n",
       "               '2024-04-29', '2024-04-30'],\n",
       "              dtype='datetime64[ns]', name='Date', length=1089, freq=None)"
      ]
     },
     "execution_count": 30,
     "metadata": {},
     "output_type": "execute_result"
    }
   ],
   "source": [
    "stocks.index"
   ]
  },
  {
   "cell_type": "code",
   "execution_count": 31,
   "id": "ab38787a-efaa-4789-b877-ae6448df6a4b",
   "metadata": {},
   "outputs": [
    {
     "data": {
      "text/plain": [
       "DatetimeIndex(['2021-04-04 14:23:12', '2021-04-05 14:23:12',\n",
       "               '2021-04-08 14:23:12', '2021-04-09 14:23:12',\n",
       "               '2021-04-10 14:23:12', '2021-04-11 14:23:12',\n",
       "               '2021-04-12 14:23:12', '2021-04-15 14:23:12',\n",
       "               '2021-04-16 14:23:12', '2021-04-17 14:23:12',\n",
       "               ...\n",
       "               '2025-07-19 14:23:12', '2025-07-20 14:23:12',\n",
       "               '2025-07-21 14:23:12', '2025-07-24 14:23:12',\n",
       "               '2025-07-25 14:23:12', '2025-07-26 14:23:12',\n",
       "               '2025-07-27 14:23:12', '2025-07-28 14:23:12',\n",
       "               '2025-07-31 14:23:12', '2025-08-01 14:23:12'],\n",
       "              dtype='datetime64[ns]', name='Date', length=1089, freq=None)"
      ]
     },
     "execution_count": 31,
     "metadata": {},
     "output_type": "execute_result"
    }
   ],
   "source": [
    "stocks.index + pd.DateOffset(days=5)\n",
    "stocks.index - pd.DateOffset(days=5)\n",
    "stocks.index + pd.DateOffset(months=3)\n",
    "stocks.index + pd.DateOffset(years=1)\n",
    "stocks.index + pd.DateOffset(hours=7)\n",
    "\n",
    "stocks.index + pd.DateOffset(years=1, months=3, days=2, hours=14, minutes=23, seconds=12)"
   ]
  },
  {
   "cell_type": "code",
   "execution_count": 32,
   "id": "f3dfcb67-9e35-47a7-bf9a-e7489c3248d0",
   "metadata": {},
   "outputs": [
    {
     "data": {
      "text/plain": [
       "DatetimeIndex(['2020-02-13', '2021-02-13', '2022-02-13', '2023-02-13',\n",
       "               '2024-02-13'],\n",
       "              dtype='datetime64[ns]', freq='<DateOffset: years=1>')"
      ]
     },
     "execution_count": 32,
     "metadata": {},
     "output_type": "execute_result"
    }
   ],
   "source": [
    "# Find the IBM stock price on every one of my birthdays since 2020\n",
    "birthdays = pd.date_range(start=\"2020-02-13\", end=\"2024-02-13\", freq=pd.DateOffset(years=1))\n",
    "birthdays"
   ]
  },
  {
   "cell_type": "code",
   "execution_count": 33,
   "id": "a01074b0-30a9-499a-91e6-3a383a3b562f",
   "metadata": {},
   "outputs": [
    {
     "data": {
      "text/html": [
       "<div>\n",
       "<style scoped>\n",
       "    .dataframe tbody tr th:only-of-type {\n",
       "        vertical-align: middle;\n",
       "    }\n",
       "\n",
       "    .dataframe tbody tr th {\n",
       "        vertical-align: top;\n",
       "    }\n",
       "\n",
       "    .dataframe thead th {\n",
       "        text-align: right;\n",
       "    }\n",
       "</style>\n",
       "<table border=\"1\" class=\"dataframe\">\n",
       "  <thead>\n",
       "    <tr style=\"text-align: right;\">\n",
       "      <th></th>\n",
       "      <th>Open</th>\n",
       "      <th>High</th>\n",
       "      <th>Low</th>\n",
       "      <th>Close</th>\n",
       "      <th>Adj Close</th>\n",
       "      <th>Volume</th>\n",
       "    </tr>\n",
       "    <tr>\n",
       "      <th>Date</th>\n",
       "      <th></th>\n",
       "      <th></th>\n",
       "      <th></th>\n",
       "      <th></th>\n",
       "      <th></th>\n",
       "      <th></th>\n",
       "    </tr>\n",
       "  </thead>\n",
       "  <tbody>\n",
       "    <tr>\n",
       "      <th>2020-02-13</th>\n",
       "      <td>147.581268</td>\n",
       "      <td>148.021027</td>\n",
       "      <td>146.663483</td>\n",
       "      <td>147.523895</td>\n",
       "      <td>121.294800</td>\n",
       "      <td>3996452</td>\n",
       "    </tr>\n",
       "    <tr>\n",
       "      <th>2023-02-13</th>\n",
       "      <td>136.000000</td>\n",
       "      <td>137.389999</td>\n",
       "      <td>135.850006</td>\n",
       "      <td>137.350006</td>\n",
       "      <td>131.261826</td>\n",
       "      <td>4403000</td>\n",
       "    </tr>\n",
       "    <tr>\n",
       "      <th>2024-02-13</th>\n",
       "      <td>184.279999</td>\n",
       "      <td>184.770004</td>\n",
       "      <td>182.360001</td>\n",
       "      <td>183.699997</td>\n",
       "      <td>183.699997</td>\n",
       "      <td>4290500</td>\n",
       "    </tr>\n",
       "  </tbody>\n",
       "</table>\n",
       "</div>"
      ],
      "text/plain": [
       "                  Open        High         Low       Close   Adj Close  \\\n",
       "Date                                                                     \n",
       "2020-02-13  147.581268  148.021027  146.663483  147.523895  121.294800   \n",
       "2023-02-13  136.000000  137.389999  135.850006  137.350006  131.261826   \n",
       "2024-02-13  184.279999  184.770004  182.360001  183.699997  183.699997   \n",
       "\n",
       "             Volume  \n",
       "Date                 \n",
       "2020-02-13  3996452  \n",
       "2023-02-13  4403000  \n",
       "2024-02-13  4290500  "
      ]
     },
     "execution_count": 33,
     "metadata": {},
     "output_type": "execute_result"
    }
   ],
   "source": [
    "stocks[stocks.index.isin(birthdays)]"
   ]
  },
  {
   "cell_type": "markdown",
   "id": "46838f9c-2dbf-45fe-83b4-3c8132b77d7f",
   "metadata": {},
   "source": [
    "## 7. Specialized Date Offsets\n",
    "\n",
    "- Pandas nests more specialized date offsets in `pd.tseries.offsets`.\n",
    "- We can add a different amount of time to each date (for example, month end, quarter end, year begin).\n"
   ]
  },
  {
   "cell_type": "code",
   "execution_count": 34,
   "id": "15972852-5b89-49cb-b140-16a4e15e1298",
   "metadata": {},
   "outputs": [
    {
     "data": {
      "text/html": [
       "<div>\n",
       "<style scoped>\n",
       "    .dataframe tbody tr th:only-of-type {\n",
       "        vertical-align: middle;\n",
       "    }\n",
       "\n",
       "    .dataframe tbody tr th {\n",
       "        vertical-align: top;\n",
       "    }\n",
       "\n",
       "    .dataframe thead th {\n",
       "        text-align: right;\n",
       "    }\n",
       "</style>\n",
       "<table border=\"1\" class=\"dataframe\">\n",
       "  <thead>\n",
       "    <tr style=\"text-align: right;\">\n",
       "      <th></th>\n",
       "      <th>Open</th>\n",
       "      <th>High</th>\n",
       "      <th>Low</th>\n",
       "      <th>Close</th>\n",
       "      <th>Adj Close</th>\n",
       "      <th>Volume</th>\n",
       "    </tr>\n",
       "    <tr>\n",
       "      <th>Date</th>\n",
       "      <th></th>\n",
       "      <th></th>\n",
       "      <th></th>\n",
       "      <th></th>\n",
       "      <th></th>\n",
       "      <th></th>\n",
       "    </tr>\n",
       "  </thead>\n",
       "  <tbody>\n",
       "    <tr>\n",
       "      <th>2020-01-02</th>\n",
       "      <td>129.063095</td>\n",
       "      <td>129.942642</td>\n",
       "      <td>128.843216</td>\n",
       "      <td>129.464630</td>\n",
       "      <td>105.346336</td>\n",
       "      <td>3293436</td>\n",
       "    </tr>\n",
       "    <tr>\n",
       "      <th>2020-01-03</th>\n",
       "      <td>127.695984</td>\n",
       "      <td>128.929260</td>\n",
       "      <td>127.686424</td>\n",
       "      <td>128.432129</td>\n",
       "      <td>104.506195</td>\n",
       "      <td>2482890</td>\n",
       "    </tr>\n",
       "    <tr>\n",
       "      <th>2020-01-06</th>\n",
       "      <td>127.552582</td>\n",
       "      <td>128.336517</td>\n",
       "      <td>127.342255</td>\n",
       "      <td>128.202682</td>\n",
       "      <td>104.319489</td>\n",
       "      <td>2537073</td>\n",
       "    </tr>\n",
       "    <tr>\n",
       "      <th>2020-01-07</th>\n",
       "      <td>127.810707</td>\n",
       "      <td>129.024857</td>\n",
       "      <td>127.533463</td>\n",
       "      <td>128.288712</td>\n",
       "      <td>104.389488</td>\n",
       "      <td>3232977</td>\n",
       "    </tr>\n",
       "    <tr>\n",
       "      <th>2020-01-08</th>\n",
       "      <td>128.594650</td>\n",
       "      <td>129.885284</td>\n",
       "      <td>128.030594</td>\n",
       "      <td>129.359467</td>\n",
       "      <td>105.260765</td>\n",
       "      <td>4545916</td>\n",
       "    </tr>\n",
       "  </tbody>\n",
       "</table>\n",
       "</div>"
      ],
      "text/plain": [
       "                  Open        High         Low       Close   Adj Close  \\\n",
       "Date                                                                     \n",
       "2020-01-02  129.063095  129.942642  128.843216  129.464630  105.346336   \n",
       "2020-01-03  127.695984  128.929260  127.686424  128.432129  104.506195   \n",
       "2020-01-06  127.552582  128.336517  127.342255  128.202682  104.319489   \n",
       "2020-01-07  127.810707  129.024857  127.533463  128.288712  104.389488   \n",
       "2020-01-08  128.594650  129.885284  128.030594  129.359467  105.260765   \n",
       "\n",
       "             Volume  \n",
       "Date                 \n",
       "2020-01-02  3293436  \n",
       "2020-01-03  2482890  \n",
       "2020-01-06  2537073  \n",
       "2020-01-07  3232977  \n",
       "2020-01-08  4545916  "
      ]
     },
     "execution_count": 34,
     "metadata": {},
     "output_type": "execute_result"
    }
   ],
   "source": [
    "stocks = pd.read_csv(\"ibm.csv\", parse_dates=[\"Date\"],index_col=\"Date\").sort_index()\n",
    "stocks.head()"
   ]
  },
  {
   "cell_type": "code",
   "execution_count": 35,
   "id": "6f28d244-c787-4b9b-9f8a-3807c28f6dc3",
   "metadata": {},
   "outputs": [
    {
     "data": {
      "text/plain": [
       "DatetimeIndex(['2020-01-01', '2020-01-01', '2020-01-01', '2020-01-01',\n",
       "               '2020-01-01', '2020-01-01', '2020-01-01', '2020-01-01',\n",
       "               '2020-01-01', '2020-01-01',\n",
       "               ...\n",
       "               '2024-01-01', '2024-01-01', '2024-01-01', '2024-01-01',\n",
       "               '2024-01-01', '2024-01-01', '2024-01-01', '2024-01-01',\n",
       "               '2024-01-01', '2024-01-01'],\n",
       "              dtype='datetime64[ns]', name='Date', length=1089, freq=None)"
      ]
     },
     "execution_count": 35,
     "metadata": {},
     "output_type": "execute_result"
    }
   ],
   "source": [
    "stocks.index + pd.tseries.offsets.MonthEnd()\n",
    "stocks.index - pd.tseries.offsets.MonthEnd()\n",
    "\n",
    "stocks.index + pd.tseries.offsets.QuarterEnd()\n",
    "stocks.index - pd.tseries.offsets.QuarterEnd()\n",
    "\n",
    "stocks.index + pd.tseries.offsets.QuarterBegin(startingMonth=1)\n",
    "stocks.index - pd.tseries.offsets.QuarterBegin(startingMonth=1)\n",
    "\n",
    "stocks.index + pd.tseries.offsets.YearEnd()\n",
    "stocks.index - pd.tseries.offsets.YearBegin()\n"
   ]
  },
  {
   "cell_type": "markdown",
   "id": "f69181d4-891b-48f7-b78e-9a0d06ddde26",
   "metadata": {},
   "source": [
    "## 8. Timedeltas\n",
    "\n",
    "- A **Timedelta** is a pandas object that represents a duration (an amount of time).\n",
    "- Subtracting two **Timestamp** objects will yield a **Timedelta** object (this applies to subtracting a **Series** from another **Series**).\n",
    "- The **Timedelta** constructor accepts parameters for time as well as string descriptions.\n"
   ]
  },
  {
   "cell_type": "code",
   "execution_count": 36,
   "id": "4fabc18c-7252-481c-bee3-2c6a054e9c16",
   "metadata": {},
   "outputs": [
    {
     "data": {
      "text/plain": [
       "Timedelta('-2191 days +00:00:00')"
      ]
     },
     "execution_count": 36,
     "metadata": {},
     "output_type": "execute_result"
    }
   ],
   "source": [
    "timeA = pd.Timestamp('2010-01-31')\n",
    "timeB = pd.Timestamp('2016-01-31')\n",
    "timeA - timeB"
   ]
  },
  {
   "cell_type": "code",
   "execution_count": 37,
   "id": "daffd935-1032-48f6-9ca2-9ecdcd4c317e",
   "metadata": {},
   "outputs": [
    {
     "data": {
      "text/plain": [
       "pandas._libs.tslibs.timedeltas.Timedelta"
      ]
     },
     "execution_count": 37,
     "metadata": {},
     "output_type": "execute_result"
    }
   ],
   "source": [
    "type(timeA - timeB)"
   ]
  },
  {
   "cell_type": "code",
   "execution_count": 38,
   "id": "330877e0-068b-4339-a7ca-64592b399ba9",
   "metadata": {},
   "outputs": [
    {
     "data": {
      "text/plain": [
       "Timedelta('60 days 12:00:00')"
      ]
     },
     "execution_count": 38,
     "metadata": {},
     "output_type": "execute_result"
    }
   ],
   "source": [
    "pd.Timedelta(days = 4, weeks = 8, hours = 12)"
   ]
  },
  {
   "cell_type": "code",
   "execution_count": 39,
   "id": "62832024-9441-4a4b-b028-0f238e2814ca",
   "metadata": {},
   "outputs": [
    {
     "data": {
      "text/plain": [
       "Timedelta('0 days 06:12:00')"
      ]
     },
     "execution_count": 39,
     "metadata": {},
     "output_type": "execute_result"
    }
   ],
   "source": [
    "pd.Timedelta(\"6 hours 12 minutes\")"
   ]
  },
  {
   "cell_type": "code",
   "execution_count": 40,
   "id": "97e5720f-74dc-48e4-9a4b-5efeb146ce00",
   "metadata": {},
   "outputs": [
    {
     "name": "stderr",
     "output_type": "stream",
     "text": [
      "/var/folders/p_/7g1rh2d11bv7z35m9lmpfxnm0000gn/T/ipykernel_28150/743876651.py:1: UserWarning: Could not infer format, so each element will be parsed individually, falling back to `dateutil`. To ensure parsing is consistent and as-expected, please specify a format.\n",
      "  shipping = pd.read_csv('ecommerce.csv', index_col = 'ID', parse_dates = ['order_date', 'delivery_date'])\n",
      "/var/folders/p_/7g1rh2d11bv7z35m9lmpfxnm0000gn/T/ipykernel_28150/743876651.py:1: UserWarning: Could not infer format, so each element will be parsed individually, falling back to `dateutil`. To ensure parsing is consistent and as-expected, please specify a format.\n",
      "  shipping = pd.read_csv('ecommerce.csv', index_col = 'ID', parse_dates = ['order_date', 'delivery_date'])\n"
     ]
    },
    {
     "data": {
      "text/html": [
       "<div>\n",
       "<style scoped>\n",
       "    .dataframe tbody tr th:only-of-type {\n",
       "        vertical-align: middle;\n",
       "    }\n",
       "\n",
       "    .dataframe tbody tr th {\n",
       "        vertical-align: top;\n",
       "    }\n",
       "\n",
       "    .dataframe thead th {\n",
       "        text-align: right;\n",
       "    }\n",
       "</style>\n",
       "<table border=\"1\" class=\"dataframe\">\n",
       "  <thead>\n",
       "    <tr style=\"text-align: right;\">\n",
       "      <th></th>\n",
       "      <th>order_date</th>\n",
       "      <th>delivery_date</th>\n",
       "    </tr>\n",
       "    <tr>\n",
       "      <th>ID</th>\n",
       "      <th></th>\n",
       "      <th></th>\n",
       "    </tr>\n",
       "  </thead>\n",
       "  <tbody>\n",
       "    <tr>\n",
       "      <th>1</th>\n",
       "      <td>1998-05-24</td>\n",
       "      <td>1999-02-05</td>\n",
       "    </tr>\n",
       "    <tr>\n",
       "      <th>2</th>\n",
       "      <td>1992-04-22</td>\n",
       "      <td>1998-03-06</td>\n",
       "    </tr>\n",
       "    <tr>\n",
       "      <th>4</th>\n",
       "      <td>1991-02-10</td>\n",
       "      <td>1992-08-26</td>\n",
       "    </tr>\n",
       "  </tbody>\n",
       "</table>\n",
       "</div>"
      ],
      "text/plain": [
       "   order_date delivery_date\n",
       "ID                         \n",
       "1  1998-05-24    1999-02-05\n",
       "2  1992-04-22    1998-03-06\n",
       "4  1991-02-10    1992-08-26"
      ]
     },
     "execution_count": 40,
     "metadata": {},
     "output_type": "execute_result"
    }
   ],
   "source": [
    "shipping = pd.read_csv('ecommerce.csv', index_col = 'ID', parse_dates = ['order_date', 'delivery_date'])\n",
    "shipping.head(3)"
   ]
  },
  {
   "cell_type": "code",
   "execution_count": 41,
   "id": "3c575fba-051c-4aca-9d62-673f9e6f9fdd",
   "metadata": {},
   "outputs": [],
   "source": [
    "shipping['Delivery Time'] = shipping['delivery_date'] - shipping['order_date']"
   ]
  },
  {
   "cell_type": "code",
   "execution_count": 42,
   "id": "04f5002b-2609-4ea6-9df9-1f1b6650a79a",
   "metadata": {},
   "outputs": [
    {
     "data": {
      "text/html": [
       "<div>\n",
       "<style scoped>\n",
       "    .dataframe tbody tr th:only-of-type {\n",
       "        vertical-align: middle;\n",
       "    }\n",
       "\n",
       "    .dataframe tbody tr th {\n",
       "        vertical-align: top;\n",
       "    }\n",
       "\n",
       "    .dataframe thead th {\n",
       "        text-align: right;\n",
       "    }\n",
       "</style>\n",
       "<table border=\"1\" class=\"dataframe\">\n",
       "  <thead>\n",
       "    <tr style=\"text-align: right;\">\n",
       "      <th></th>\n",
       "      <th>order_date</th>\n",
       "      <th>delivery_date</th>\n",
       "      <th>Delivery Time</th>\n",
       "    </tr>\n",
       "    <tr>\n",
       "      <th>ID</th>\n",
       "      <th></th>\n",
       "      <th></th>\n",
       "      <th></th>\n",
       "    </tr>\n",
       "  </thead>\n",
       "  <tbody>\n",
       "    <tr>\n",
       "      <th>1</th>\n",
       "      <td>1998-05-24</td>\n",
       "      <td>1999-02-05</td>\n",
       "      <td>257 days</td>\n",
       "    </tr>\n",
       "    <tr>\n",
       "      <th>2</th>\n",
       "      <td>1992-04-22</td>\n",
       "      <td>1998-03-06</td>\n",
       "      <td>2144 days</td>\n",
       "    </tr>\n",
       "    <tr>\n",
       "      <th>4</th>\n",
       "      <td>1991-02-10</td>\n",
       "      <td>1992-08-26</td>\n",
       "      <td>563 days</td>\n",
       "    </tr>\n",
       "  </tbody>\n",
       "</table>\n",
       "</div>"
      ],
      "text/plain": [
       "   order_date delivery_date Delivery Time\n",
       "ID                                       \n",
       "1  1998-05-24    1999-02-05      257 days\n",
       "2  1992-04-22    1998-03-06     2144 days\n",
       "4  1991-02-10    1992-08-26      563 days"
      ]
     },
     "execution_count": 42,
     "metadata": {},
     "output_type": "execute_result"
    }
   ],
   "source": [
    "shipping.head(3)"
   ]
  },
  {
   "cell_type": "code",
   "execution_count": 43,
   "id": "c3d990d8-f08c-4e94-a335-35b59430fd9c",
   "metadata": {},
   "outputs": [
    {
     "data": {
      "text/plain": [
       "order_date        datetime64[ns]\n",
       "delivery_date     datetime64[ns]\n",
       "Delivery Time    timedelta64[ns]\n",
       "dtype: object"
      ]
     },
     "execution_count": 43,
     "metadata": {},
     "output_type": "execute_result"
    }
   ],
   "source": [
    "shipping.dtypes"
   ]
  },
  {
   "cell_type": "code",
   "execution_count": 44,
   "id": "b667a80f-a69e-4c3f-8af8-3d32f4f6c917",
   "metadata": {},
   "outputs": [
    {
     "data": {
      "text/html": [
       "<div>\n",
       "<style scoped>\n",
       "    .dataframe tbody tr th:only-of-type {\n",
       "        vertical-align: middle;\n",
       "    }\n",
       "\n",
       "    .dataframe tbody tr th {\n",
       "        vertical-align: top;\n",
       "    }\n",
       "\n",
       "    .dataframe thead th {\n",
       "        text-align: right;\n",
       "    }\n",
       "</style>\n",
       "<table border=\"1\" class=\"dataframe\">\n",
       "  <thead>\n",
       "    <tr style=\"text-align: right;\">\n",
       "      <th></th>\n",
       "      <th>order_date</th>\n",
       "      <th>delivery_date</th>\n",
       "      <th>Delivery Time</th>\n",
       "    </tr>\n",
       "    <tr>\n",
       "      <th>ID</th>\n",
       "      <th></th>\n",
       "      <th></th>\n",
       "      <th></th>\n",
       "    </tr>\n",
       "  </thead>\n",
       "  <tbody>\n",
       "    <tr>\n",
       "      <th>2</th>\n",
       "      <td>1992-04-22</td>\n",
       "      <td>1998-03-06</td>\n",
       "      <td>2144 days</td>\n",
       "    </tr>\n",
       "    <tr>\n",
       "      <th>4</th>\n",
       "      <td>1991-02-10</td>\n",
       "      <td>1992-08-26</td>\n",
       "      <td>563 days</td>\n",
       "    </tr>\n",
       "    <tr>\n",
       "      <th>5</th>\n",
       "      <td>1992-07-21</td>\n",
       "      <td>1997-11-20</td>\n",
       "      <td>1948 days</td>\n",
       "    </tr>\n",
       "    <tr>\n",
       "      <th>7</th>\n",
       "      <td>1993-09-02</td>\n",
       "      <td>1998-06-10</td>\n",
       "      <td>1742 days</td>\n",
       "    </tr>\n",
       "    <tr>\n",
       "      <th>9</th>\n",
       "      <td>1990-01-25</td>\n",
       "      <td>1994-10-02</td>\n",
       "      <td>1711 days</td>\n",
       "    </tr>\n",
       "    <tr>\n",
       "      <th>...</th>\n",
       "      <td>...</td>\n",
       "      <td>...</td>\n",
       "      <td>...</td>\n",
       "    </tr>\n",
       "    <tr>\n",
       "      <th>986</th>\n",
       "      <td>1990-12-10</td>\n",
       "      <td>1992-12-16</td>\n",
       "      <td>737 days</td>\n",
       "    </tr>\n",
       "    <tr>\n",
       "      <th>990</th>\n",
       "      <td>1991-06-24</td>\n",
       "      <td>1996-02-02</td>\n",
       "      <td>1684 days</td>\n",
       "    </tr>\n",
       "    <tr>\n",
       "      <th>991</th>\n",
       "      <td>1991-09-09</td>\n",
       "      <td>1998-03-30</td>\n",
       "      <td>2394 days</td>\n",
       "    </tr>\n",
       "    <tr>\n",
       "      <th>993</th>\n",
       "      <td>1990-11-16</td>\n",
       "      <td>1998-04-27</td>\n",
       "      <td>2719 days</td>\n",
       "    </tr>\n",
       "    <tr>\n",
       "      <th>997</th>\n",
       "      <td>1990-01-04</td>\n",
       "      <td>1991-10-03</td>\n",
       "      <td>637 days</td>\n",
       "    </tr>\n",
       "  </tbody>\n",
       "</table>\n",
       "<p>394 rows × 3 columns</p>\n",
       "</div>"
      ],
      "text/plain": [
       "    order_date delivery_date Delivery Time\n",
       "ID                                        \n",
       "2   1992-04-22    1998-03-06     2144 days\n",
       "4   1991-02-10    1992-08-26      563 days\n",
       "5   1992-07-21    1997-11-20     1948 days\n",
       "7   1993-09-02    1998-06-10     1742 days\n",
       "9   1990-01-25    1994-10-02     1711 days\n",
       "..         ...           ...           ...\n",
       "986 1990-12-10    1992-12-16      737 days\n",
       "990 1991-06-24    1996-02-02     1684 days\n",
       "991 1991-09-09    1998-03-30     2394 days\n",
       "993 1990-11-16    1998-04-27     2719 days\n",
       "997 1990-01-04    1991-10-03      637 days\n",
       "\n",
       "[394 rows x 3 columns]"
      ]
     },
     "execution_count": 44,
     "metadata": {},
     "output_type": "execute_result"
    }
   ],
   "source": [
    "mask = shipping['Delivery Time'] > '365 Days'\n",
    "shipping[mask]"
   ]
  },
  {
   "cell_type": "code",
   "execution_count": null,
   "id": "bce71b0c-f5be-4d6b-a34b-e62dfd87a740",
   "metadata": {},
   "outputs": [],
   "source": []
  }
 ],
 "metadata": {
  "kernelspec": {
   "display_name": "Python (Packt_Pandas)",
   "language": "python",
   "name": "packt_pandas"
  },
  "language_info": {
   "codemirror_mode": {
    "name": "ipython",
    "version": 3
   },
   "file_extension": ".py",
   "mimetype": "text/x-python",
   "name": "python",
   "nbconvert_exporter": "python",
   "pygments_lexer": "ipython3",
   "version": "3.11.9"
  }
 },
 "nbformat": 4,
 "nbformat_minor": 5
}
